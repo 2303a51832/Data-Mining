{
  "nbformat": 4,
  "nbformat_minor": 0,
  "metadata": {
    "colab": {
      "provenance": [],
      "include_colab_link": true
    },
    "kernelspec": {
      "name": "python3",
      "display_name": "Python 3"
    },
    "language_info": {
      "name": "python"
    }
  },
  "cells": [
    {
      "cell_type": "markdown",
      "metadata": {
        "id": "view-in-github",
        "colab_type": "text"
      },
      "source": [
        "<a href=\"https://colab.research.google.com/github/2303a51832/Data-Mining/blob/main/ASSIGNMENT_1.ipynb\" target=\"_parent\"><img src=\"https://colab.research.google.com/assets/colab-badge.svg\" alt=\"Open In Colab\"/></a>"
      ]
    },
    {
      "cell_type": "code",
      "execution_count": null,
      "metadata": {
        "id": "3KzrAwQY1TdG"
      },
      "outputs": [],
      "source": [
        "import pandas as pd\n",
        "import numpy as np\n",
        "from sklearn.preprocessing import MinMaxScaler, StandardScaler"
      ]
    },
    {
      "cell_type": "code",
      "source": [
        "file_path = \"/content/employee_data.csv\"\n",
        "df = pd.read_csv(file_path)"
      ],
      "metadata": {
        "id": "5nvHR4Q4Dz1A"
      },
      "execution_count": null,
      "outputs": []
    },
    {
      "cell_type": "code",
      "source": [
        "print(\"Dataset before preprocessing:\")\n",
        "print(df.head())\n",
        "print(\"\\nColumn Names:\", df.columns)"
      ],
      "metadata": {
        "id": "sLMeVvjs1XhN",
        "colab": {
          "base_uri": "https://localhost:8080/"
        },
        "outputId": "95e04b09-9663-4dd3-faa7-915d8c537444"
      },
      "execution_count": null,
      "outputs": [
        {
          "output_type": "stream",
          "name": "stdout",
          "text": [
            "Dataset before preprocessing:\n",
            "   Employee_ID   Age    Salary  Job_Satisfaction  Work_Hours_Per_Week\n",
            "0         1001  50.0  108953.0               9.0                   36\n",
            "1         1002  36.0   82995.0               8.0                   59\n",
            "2         1003  29.0   70757.0               2.0                   30\n",
            "3         1004  42.0   39692.0               1.0                   30\n",
            "4         1005  40.0   75758.0               7.0                   54\n",
            "\n",
            "Column Names: Index(['Employee_ID', 'Age', 'Salary', 'Job_Satisfaction',\n",
            "       'Work_Hours_Per_Week'],\n",
            "      dtype='object')\n"
          ]
        }
      ]
    },
    {
      "cell_type": "code",
      "source": [
        "for column in ['Age', 'Salary', 'Job_Satisfaction', 'Work_Hours_Per_Week']:\n",
        "    if column in df.columns:\n",
        "        if df[column].isnull().sum() > 0:\n",
        "            if column == 'Job_Satisfaction':\n",
        "                df[column].fillna(df[column].mode()[0], inplace=True)  # Mode for categorical-like data\n",
        "            else:\n",
        "                df[column].fillna(df[column].mean(), inplace=True)  # Mean for numerical data\n"
      ],
      "metadata": {
        "id": "COK_DG3A1XkA"
      },
      "execution_count": null,
      "outputs": []
    },
    {
      "cell_type": "code",
      "source": [
        "print(\"\\nMissing values after handling:\")\n",
        "print(df.isnull().sum())"
      ],
      "metadata": {
        "colab": {
          "base_uri": "https://localhost:8080/"
        },
        "id": "_M_sLIaeFUOt",
        "outputId": "d09e0b65-504f-48f1-c5e5-d5c61b896796"
      },
      "execution_count": null,
      "outputs": [
        {
          "output_type": "stream",
          "name": "stdout",
          "text": [
            "\n",
            "Missing values after handling:\n",
            "Employee_ID            0\n",
            "Age                    0\n",
            "Salary                 0\n",
            "Job_Satisfaction       0\n",
            "Work_Hours_Per_Week    0\n",
            "dtype: int64\n"
          ]
        }
      ]
    },
    {
      "cell_type": "code",
      "source": [
        "def min_max_scaling(x):\n",
        "    return (x - x.min()) / (x.max() - x.min()) if x.max() != x.min() else x\n",
        "\n",
        "if 'Age' in df.columns and 'Salary' in df.columns:\n",
        "    df['Age_Manual_Scaled'] = min_max_scaling(df['Age'])\n",
        "    df['Salary_Manual_Scaled'] = min_max_scaling(df['Salary'])\n"
      ],
      "metadata": {
        "id": "MIsEVCGc1XmS"
      },
      "execution_count": null,
      "outputs": []
    },
    {
      "cell_type": "code",
      "source": [
        "if 'Age' in df.columns and 'Salary' in df.columns:\n",
        "    scaler = MinMaxScaler()\n",
        "    df[['Age', 'Salary']] = scaler.fit_transform(df[['Age', 'Salary']])"
      ],
      "metadata": {
        "id": "nN9eWC6iGd3-"
      },
      "execution_count": null,
      "outputs": []
    },
    {
      "cell_type": "code",
      "source": [
        "def z_score_standardization(x):\n",
        "    return (x - x.mean()) / (x.std() + 1e-8) if x.std() != 0 else x\n",
        "\n",
        "if 'Job_Satisfaction' in df.columns and 'Work_Hours_Per_Week' in df.columns:\n",
        "    df['Job_Satisfaction_Manual'] = z_score_standardization(df['Job_Satisfaction'])\n",
        "    df['Work_Hours_Per_Week_Manual'] = z_score_standardization(df['Work_Hours_Per_Week'])\n"
      ],
      "metadata": {
        "id": "Y6oZjaUA1Xq6"
      },
      "execution_count": null,
      "outputs": []
    },
    {
      "cell_type": "code",
      "source": [
        "if 'Job_Satisfaction' in df.columns and 'Work_Hours_Per_Week' in df.columns:\n",
        "    scaler = StandardScaler()\n",
        "    df[['Job_Satisfaction', 'Work_Hours_Per_Week']] = scaler.fit_transform(df[['Job_Satisfaction', 'Work_Hours_Per_Week']])\n"
      ],
      "metadata": {
        "id": "45r_A3J61Xvx"
      },
      "execution_count": null,
      "outputs": []
    },
    {
      "cell_type": "code",
      "source": [
        "print(\"\\nDataset after preprocessing:\")\n",
        "print(df.head())"
      ],
      "metadata": {
        "id": "a-A1dmyL1XzP",
        "colab": {
          "base_uri": "https://localhost:8080/"
        },
        "outputId": "d445e8be-1b5d-4665-be93-8b71f2cfc7fe"
      },
      "execution_count": null,
      "outputs": [
        {
          "output_type": "stream",
          "name": "stdout",
          "text": [
            "\n",
            "Dataset after preprocessing:\n",
            "   Employee_ID       Age    Salary  Job_Satisfaction  Work_Hours_Per_Week  \\\n",
            "0         1001  0.750000  0.877708          1.275854            -0.905969   \n",
            "1         1002  0.361111  0.585375          0.872103             1.483629   \n",
            "2         1003  0.166667  0.447554         -1.550405            -1.529343   \n",
            "3         1004  0.527778  0.097707         -1.954156            -1.529343   \n",
            "4         1005  0.472222  0.503874          0.468352             0.964151   \n",
            "\n",
            "   Age_Manual_Scaled  Salary_Manual_Scaled  Job_Satisfaction_Manual  \\\n",
            "0           0.750000              0.877708                 1.263031   \n",
            "1           0.361111              0.585375                 0.863338   \n",
            "2           0.166667              0.447554                -1.534823   \n",
            "3           0.527778              0.097707                -1.934516   \n",
            "4           0.472222              0.503874                 0.463644   \n",
            "\n",
            "   Work_Hours_Per_Week_Manual  \n",
            "0                   -0.896864  \n",
            "1                    1.468717  \n",
            "2                   -1.513972  \n",
            "3                   -1.513972  \n",
            "4                    0.954461  \n"
          ]
        }
      ]
    }
  ]
}