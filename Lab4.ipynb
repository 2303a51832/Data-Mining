{
  "nbformat": 4,
  "nbformat_minor": 0,
  "metadata": {
    "colab": {
      "provenance": [],
      "include_colab_link": true
    },
    "kernelspec": {
      "name": "python3",
      "display_name": "Python 3"
    },
    "language_info": {
      "name": "python"
    }
  },
  "cells": [
    {
      "cell_type": "markdown",
      "metadata": {
        "id": "view-in-github",
        "colab_type": "text"
      },
      "source": [
        "<a href=\"https://colab.research.google.com/github/2303a51832/Data-Mining/blob/main/Lab4.ipynb\" target=\"_parent\"><img src=\"https://colab.research.google.com/assets/colab-badge.svg\" alt=\"Open In Colab\"/></a>"
      ]
    },
    {
      "cell_type": "code",
      "execution_count": null,
      "metadata": {
        "id": "W4PdUclCmK_0"
      },
      "outputs": [],
      "source": [
        "import pandas as pd\n",
        "from sklearn.preprocessing import LabelEncoder"
      ]
    },
    {
      "cell_type": "code",
      "source": [
        "# Load the dataset\n",
        "file_path = \"/content/wine_data.csv\"\n",
        "df = pd.read_csv(file_path)"
      ],
      "metadata": {
        "id": "Xj7-0fVdmWhM"
      },
      "execution_count": null,
      "outputs": []
    },
    {
      "cell_type": "code",
      "source": [
        "df.fillna(0, inplace=True)"
      ],
      "metadata": {
        "id": "mBzpdcm8oBY4"
      },
      "execution_count": null,
      "outputs": []
    },
    {
      "cell_type": "code",
      "source": [
        "label_encoder = LabelEncoder()\n",
        "df[\"quality_encoded\"] = label_encoder.fit_transform(df[\"quality\"])"
      ],
      "metadata": {
        "id": "0pptvJ1FmZVi"
      },
      "execution_count": null,
      "outputs": []
    },
    {
      "cell_type": "code",
      "source": [
        "df[\"quality_category\"] = df[\"quality\"].apply(lambda x: \"Low\" if x <= 5 else \"High\")\n"
      ],
      "metadata": {
        "id": "S5rOFOcLmcov"
      },
      "execution_count": null,
      "outputs": []
    },
    {
      "cell_type": "code",
      "source": [
        "grouped_df = df.groupby(\"quality_category\").mean().reset_index()\n"
      ],
      "metadata": {
        "id": "aLd4wZVRmfZD"
      },
      "execution_count": null,
      "outputs": []
    },
    {
      "cell_type": "code",
      "source": [
        "pivot_table = df.pivot_table(values=\"alcohol\", index=\"quality_category\", aggfunc=\"mean\").reset_index()\n"
      ],
      "metadata": {
        "id": "eFc6u_n9miKY"
      },
      "execution_count": null,
      "outputs": []
    },
    {
      "cell_type": "code",
      "source": [
        "print(\"First 5 rows of transformed DataFrame:\")\n",
        "print(df.head())"
      ],
      "metadata": {
        "colab": {
          "base_uri": "https://localhost:8080/"
        },
        "id": "sX9Zknhfoq00",
        "outputId": "eaabc83a-4a9c-45fd-d8e3-455fd1add1c6"
      },
      "execution_count": null,
      "outputs": [
        {
          "output_type": "stream",
          "name": "stdout",
          "text": [
            "First 5 rows of transformed DataFrame:\n",
            "   fixed_acidity  volatile_acidity  citric_acid  residual_sugar  chlorides  \\\n",
            "0           11.6             0.580         0.66            2.20      0.074   \n",
            "1           10.4             0.610         0.49            2.10      0.200   \n",
            "2            7.4             1.185         0.00            4.25      0.097   \n",
            "3           10.4             0.440         0.42            1.50      0.145   \n",
            "4            8.3             1.020         0.02            3.40      0.084   \n",
            "\n",
            "   free_sulfur_dioxide  total_sulfur_dioxide  density    pH  sulphates  \\\n",
            "0                 10.0                  47.0  1.00080  3.25       0.57   \n",
            "1                  5.0                  16.0  0.99940  3.16       0.63   \n",
            "2                  5.0                  14.0  0.99660  3.63       0.54   \n",
            "3                 34.0                  48.0  0.99832  3.38       0.86   \n",
            "4                  6.0                  11.0  0.99892  3.48       0.49   \n",
            "\n",
            "   alcohol  quality  quality_encoded quality_category  \n",
            "0      9.0        3                0              Low  \n",
            "1      8.4        3                0              Low  \n",
            "2     10.7        3                0              Low  \n",
            "3      9.9        3                0              Low  \n",
            "4     11.0        3                0              Low  \n"
          ]
        }
      ]
    },
    {
      "cell_type": "code",
      "source": [
        "print(\"\\nGrouped Data by Quality Category:\")\n",
        "print(grouped_df)\n"
      ],
      "metadata": {
        "colab": {
          "base_uri": "https://localhost:8080/"
        },
        "id": "0yE78a5VoqoF",
        "outputId": "c5eba48b-fd1a-4a49-ad48-7ac26cca8c6a"
      },
      "execution_count": null,
      "outputs": [
        {
          "output_type": "stream",
          "name": "stdout",
          "text": [
            "\n",
            "Grouped Data by Quality Category:\n",
            "  quality_category  fixed_acidity  volatile_acidity  citric_acid  \\\n",
            "0             High       9.641262          0.738442     0.772605   \n",
            "1              Low      10.004833          0.823268     0.822222   \n",
            "\n",
            "   residual_sugar  chlorides  free_sulfur_dioxide  total_sulfur_dioxide  \\\n",
            "0       29.925017   0.192916           124.808208            222.569050   \n",
            "1       33.108456   0.210017           135.621167            237.595044   \n",
            "\n",
            "    density        pH  sulphates    alcohol  quality  quality_encoded  \n",
            "0  1.009001  3.163635   0.999190  11.373225      7.5              4.5  \n",
            "1  1.011268  3.152148   1.049243  11.183037      4.0              1.0  \n"
          ]
        }
      ]
    },
    {
      "cell_type": "code",
      "source": [
        "print(\"\\nPivot Table for Alcohol Content:\")\n",
        "print(pivot_table)"
      ],
      "metadata": {
        "colab": {
          "base_uri": "https://localhost:8080/"
        },
        "id": "YoCy3Nr9mjcb",
        "outputId": "31a09c03-7c12-4aa1-bcce-630e64f03980"
      },
      "execution_count": null,
      "outputs": [
        {
          "output_type": "stream",
          "name": "stdout",
          "text": [
            "\n",
            "Pivot Table for Alcohol Content:\n",
            "  quality_category    alcohol\n",
            "0             High  11.373225\n",
            "1              Low  11.183037\n"
          ]
        }
      ]
    }
  ]
}